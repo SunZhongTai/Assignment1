{
  "nbformat": 4,
  "nbformat_minor": 0,
  "metadata": {
    "colab": {
      "name": "test0.py",
      "provenance": [],
      "private_outputs": true,
      "collapsed_sections": [],
      "include_colab_link": true
    },
    "kernelspec": {
      "name": "python3",
      "display_name": "Python 3"
    }
  },
  "cells": [
    {
      "cell_type": "markdown",
      "metadata": {
        "id": "view-in-github",
        "colab_type": "text"
      },
      "source": [
        "<a href=\"https://colab.research.google.com/github/SunZhongTai/Assignment1/blob/master/test0_py.ipynb\" target=\"_parent\"><img src=\"https://colab.research.google.com/assets/colab-badge.svg\" alt=\"Open In Colab\"/></a>"
      ]
    },
    {
      "cell_type": "code",
      "metadata": {
        "id": "h_aZcsvDaEKG",
        "colab_type": "code",
        "colab": {}
      },
      "source": [
        "import numpy as np \n",
        "import tensorflow as tf\n",
        "import matplotlib.pyplot as plt\n",
        "num_points=100\n",
        "vectors_set=[]\n",
        "\n",
        "for i in range(num_points):\n",
        "    x1=np.random.normal(0.0,0.55)\n",
        "    y1=x1*0.1+0.3+np.random.normal(0.0,0.03)\n",
        "    vectors_set.append([x1,y1])\n",
        "    \n",
        "    x_data=[v[0] for v in vectors_set]\n",
        "    y_data=[v[1] for v in vectors_set]\n",
        "    \n",
        "    plt.scatter(x_data,y_data,c='r')\n",
        "    plt.show()\n"
      ],
      "execution_count": 0,
      "outputs": []
    },
    {
      "cell_type": "code",
      "metadata": {
        "id": "eT_K2id0aJvF",
        "colab_type": "code",
        "colab": {}
      },
      "source": [
        "import tensorflow as tf \n",
        "tf.zeros([3, 4], int32) ==> [[0, 0, 0, 0], [0, 0, 0, 0], [0, 0, 0, 0]]\n",
        "tf.zeros_like(tensor)==>[[0,0,0],[0,0,0]]\n",
        "tf.ones([2,3],int32)==>[[1,1,1],[1,1,1]]\n",
        "tf.ones_like(tensor)==>{[1,1,1],[1,1,1]}\n",
        "tensor=tf.constant([1,2,3,4,5,6,7])=>[1 2 3 4 5 6 7]\n",
        "tensor=tf.constant(-1,0,shape=[2,3])=>[[-1,-1,-1]\n",
        "                                     [-1,-1,-1]]\n",
        "tf.linspace(10.0,12.0,3,name=\"linspace\")=>[10.0 11.0 12.0]\n",
        "tf.range(start,limit,delta)==>[3,6,9,12,15]"
      ],
      "execution_count": 0,
      "outputs": []
    },
    {
      "cell_type": "markdown",
      "metadata": {
        "id": "h7ihZi7-aN1B",
        "colab_type": "text"
      },
      "source": [
        ""
      ]
    },
    {
      "cell_type": "code",
      "metadata": {
        "id": "QgmjZSGHaKGH",
        "colab_type": "code",
        "colab": {}
      },
      "source": [
        "import tensorflow as tf\n",
        "tf.add(1, 2).numpy()\n",
        "\n",
        "hello = tf.constant('Hello, TensorFlow!')\n",
        "hello.numpy()"
      ],
      "execution_count": 0,
      "outputs": []
    }
  ]
}