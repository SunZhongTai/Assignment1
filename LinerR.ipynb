{
  "nbformat": 4,
  "nbformat_minor": 0,
  "metadata": {
    "colab": {
      "name": "LinerR.ipynb",
      "provenance": [],
      "private_outputs": true,
      "include_colab_link": true
    },
    "kernelspec": {
      "name": "python3",
      "display_name": "Python 3"
    }
  },
  "cells": [
    {
      "cell_type": "markdown",
      "metadata": {
        "id": "view-in-github",
        "colab_type": "text"
      },
      "source": [
        "<a href=\"https://colab.research.google.com/github/SunZhongTai/Assignment1/blob/master/LinerR.ipynb\" target=\"_parent\"><img src=\"https://colab.research.google.com/assets/colab-badge.svg\" alt=\"Open In Colab\"/></a>"
      ]
    },
    {
      "cell_type": "code",
      "metadata": {
        "id": "vRS0mPQLqg6h",
        "colab_type": "code",
        "colab": {}
      },
      "source": [
        "import numpy as np \n",
        "import tensorflow as tf\n",
        "import matplotlib.pyplot as plt\n",
        "num_points=1000\n",
        "vectors_set=[]\n",
        "\n",
        "for i in range(num_points):\n",
        "    x1=np.random.normal(0.0,0.55)\n",
        "    y1=x1*0.1+0.3+np.random.normal(0.0,0.03)\n",
        "    vectors_set.append([x1,y1])\n",
        "    \n",
        "    x_data=[v[0] for v in vectors_set]\n",
        "    y_data=[v[1] for v in vectors_set]\n",
        "    \n",
        "    plt.scatter(x_data,y_data,c='r')\n",
        "    plt.show()\n",
        "\n",
        "    "
      ],
      "execution_count": 0,
      "outputs": []
    },
    {
      "cell_type": "code",
      "metadata": {
        "id": "3PVqpnUHqwNZ",
        "colab_type": "code",
        "colab": {}
      },
      "source": [
        ""
      ],
      "execution_count": 0,
      "outputs": []
    }
  ]
}